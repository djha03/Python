{
 "cells": [
  {
   "cell_type": "markdown",
   "id": "f4a143b7",
   "metadata": {
    "notebookRunGroups": {
     "groupValue": "2"
    }
   },
   "source": [
    "* Sets are a built-in data type in python used to store collections of unique items. They are unordered , meaning that the elements do not follow a specific order, and they do not allow duplicate elements. Sets are useful for membership tests, eliminating duplicate entries, and performing mathematical set operations like union, intersection, diffrence, and symmetric diffrence!!"
   ]
  },
  {
   "cell_type": "code",
   "execution_count": 1,
   "id": "a5495373",
   "metadata": {},
   "outputs": [
    {
     "name": "stdout",
     "output_type": "stream",
     "text": [
      "{1, 2, 3, 4, 5}\n",
      "<class 'set'>\n"
     ]
    }
   ],
   "source": [
    "##creating a Set\n",
    "\n",
    "my_set={1,2,3,4,5}\n",
    "print(my_set)\n",
    "print(type(my_set))"
   ]
  },
  {
   "cell_type": "code",
   "execution_count": 3,
   "id": "1130f5df",
   "metadata": {},
   "outputs": [
    {
     "name": "stdout",
     "output_type": "stream",
     "text": [
      "<class 'set'>\n"
     ]
    }
   ],
   "source": [
    "my_empty_set=set()\n",
    "print(type(my_empty_set))"
   ]
  },
  {
   "cell_type": "code",
   "execution_count": null,
   "id": "57637f68",
   "metadata": {},
   "outputs": [],
   "source": [
    "##Basic set operations\n",
    "#Adding and removing elements\n",
    "my_set=set()\n",
    "print(type(my_set))\n",
    "\n",
    "my_set.add(7)\n",
    "my_set.add(3)\n",
    "print(my_set)\n",
    "\n",
    "#Removing and element\n",
    "my_set.remove(3)\n",
    "print(my_set)\n",
    "\n",
    "##Note\n",
    "my_set.remove(10)  ##it gave key error because it tells us that 10 is not present in sets.\n",
    "\n",
    "my_set.discard(11) ##didnt got any error even 11 is not preset, the reason is discard menas remove the particular elemnt if you will find.\n",
    "\n"
   ]
  },
  {
   "cell_type": "code",
   "execution_count": null,
   "id": "188fdb46",
   "metadata": {},
   "outputs": [],
   "source": [
    "## Pop method\n",
    "\n",
    "removed_ele=my_set.pop()\n",
    "print(removed_ele)      #it will remove eny e=random elemnt not from the last the reason is sets is on unorderd\n",
    "\n",
    "#clear all the elements\n",
    "my_set.clear()\n",
    "print(my_set())"
   ]
  },
  {
   "cell_type": "code",
   "execution_count": null,
   "id": "657e73b6",
   "metadata": {},
   "outputs": [
    {
     "name": "stdout",
     "output_type": "stream",
     "text": [
      "True\n",
      "False\n"
     ]
    }
   ],
   "source": [
    "##Set Membership Test(Means checking wheather a element is member of this set or not)\n",
    "my_set={1,2,3,4,5,6}\n",
    "print(2 in my_set)  #True\n",
    "print(10 in my_set) #False"
   ]
  },
  {
   "cell_type": "code",
   "execution_count": null,
   "id": "ee8d68fb",
   "metadata": {},
   "outputs": [],
   "source": [
    "### Mathematical Operations\n",
    "set1={1,2,3,4,5}\n",
    "set2={4,5,6,7,8}\n",
    "\n",
    "#union\n",
    "union_set=set1.union(set2)\n",
    "print(union_set)\n",
    "\n",
    "#intersection\n",
    "intersection_set=set1.intersection(set2)\n",
    "print(intersection_set)\n",
    "\n",
    "set1.intersection_update(set2)\n",
    "print(set1)\n",
    "\n",
    "'''\n",
    "## NOTE:\n",
    "When we use `intersection()`, it returns the common values as a new set.\n",
    "\n",
    "But when we use `intersection_update()`, it does not create a new set.\n",
    "Instead, it updates the original set (`set1`) with the intersection values.\n",
    "'''"
   ]
  },
  {
   "cell_type": "code",
   "execution_count": null,
   "id": "2b41f504",
   "metadata": {},
   "outputs": [
    {
     "name": "stdout",
     "output_type": "stream",
     "text": [
      "{1, 2, 3, 4}\n",
      "{1, 2, 3, 4}\n"
     ]
    }
   ],
   "source": [
    "#Diffrence\n",
    "\n",
    "set1={1,2,3,4,5,6,7}\n",
    "set2={5,6,7,8,9}\n",
    "\n",
    "diff=set1.difference(set2)\n",
    "print(diff)\n",
    "\n",
    "set1.difference_update(set2)\n",
    "print(set1)\n",
    "\n",
    "##Note same if we want to get a answer in new set then we have to use diffrennece while if we want to get answer updated in exisitng set then we will use diffrence_update!"
   ]
  },
  {
   "cell_type": "code",
   "execution_count": 27,
   "id": "4bb0a326",
   "metadata": {},
   "outputs": [
    {
     "data": {
      "text/plain": [
       "{1, 2, 3, 4, 5, 6, 7, 8, 9}"
      ]
     },
     "execution_count": 27,
     "metadata": {},
     "output_type": "execute_result"
    }
   ],
   "source": [
    "##Symmetric diffrence(Means all the common element of both the set will be removed and only unique element will return)\n",
    "\n",
    "set1.symmetric_difference(set2)"
   ]
  },
  {
   "cell_type": "code",
   "execution_count": null,
   "id": "bee57429",
   "metadata": {},
   "outputs": [
    {
     "data": {
      "text/plain": [
       "True"
      ]
     },
     "execution_count": 37,
     "metadata": {},
     "output_type": "execute_result"
    }
   ],
   "source": [
    "##SUBSET  (Means we will just check that all the element of a particulat element is preset in B or not)\n",
    "\n",
    "#Eg\n",
    "\n",
    "st1={1,2,3}\n",
    "st2={1,2,3,4,5}\n",
    "st1.issubset(st2)  #True beacuse all ele of set1 is preset in set2\n",
    "st2.issubset(st1)  #False becasue all ele of set2 is not present in set1\n",
    "\n",
    "##SUPERSET\n",
    "\n",
    "st1.issuperset(st2) #False  Beacuse No st1 dont have all ele of st2\n",
    "st2.issuperset(st1) #True   Because Yes st2 have all ele pf st1\n"
   ]
  },
  {
   "cell_type": "markdown",
   "id": "ec0ad9f8",
   "metadata": {},
   "source": [
    "* Some stuff for practice"
   ]
  },
  {
   "cell_type": "code",
   "execution_count": 1,
   "id": "2b9910c1",
   "metadata": {},
   "outputs": [
    {
     "name": "stdout",
     "output_type": "stream",
     "text": [
      "['Hello', 'My', 'name', 'is', 'Divakar', 'Jha,', 'a', 'person', 'who', 'always', 'think', 'about', 'data', 'that', 'how', 'beautiful', 'it', 'is']\n",
      "{'think', 'about', 'always', 'beautiful', 'is', 'how', 'that', 'My', 'Jha,', 'it', 'Hello', 'name', 'a', 'who', 'person', 'Divakar', 'data'}\n",
      "17\n"
     ]
    }
   ],
   "source": [
    "# 1) Remove duplicate from a list\n",
    "lst=[1,2,3,44,5,6,6,7,8,8,9,9]\n",
    "set(lst)   #just we converted list to sets because it sonly contain unique elements\n",
    "\n",
    "# 2) count unique words in text\n",
    "\n",
    "text=\"Hello My name is Divakar Jha, a person who always think about data that how beautiful it is\"\n",
    "words=text.split()\n",
    "print(words)\n",
    "\n",
    "unique_words=set(words)\n",
    "print(unique_words)\n",
    "print(len(unique_words))"
   ]
  },
  {
   "cell_type": "code",
   "execution_count": null,
   "id": "38268ea8",
   "metadata": {},
   "outputs": [],
   "source": []
  }
 ],
 "metadata": {
  "kernelspec": {
   "display_name": "Python 3",
   "language": "python",
   "name": "python3"
  },
  "language_info": {
   "codemirror_mode": {
    "name": "ipython",
    "version": 3
   },
   "file_extension": ".py",
   "mimetype": "text/x-python",
   "name": "python",
   "nbconvert_exporter": "python",
   "pygments_lexer": "ipython3",
   "version": "3.12.0"
  }
 },
 "nbformat": 4,
 "nbformat_minor": 5
}
