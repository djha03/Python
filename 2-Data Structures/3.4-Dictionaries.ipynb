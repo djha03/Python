{
 "cells": [
  {
   "cell_type": "markdown",
   "id": "e322714d",
   "metadata": {},
   "source": [
    "* Dictionaries are unordered collections of items. They store data in key-value pairs. Key must be unique and immutable(e.g strings, numbers, or tuples), while value can be of any type.\n"
   ]
  },
  {
   "cell_type": "code",
   "execution_count": 3,
   "id": "044a9455",
   "metadata": {},
   "outputs": [
    {
     "name": "stdout",
     "output_type": "stream",
     "text": [
      "<class 'dict'>\n"
     ]
    },
    {
     "data": {
      "text/plain": [
       "{}"
      ]
     },
     "execution_count": 3,
     "metadata": {},
     "output_type": "execute_result"
    }
   ],
   "source": [
    "###Creating Dictionaries\n",
    "empty_dic={}\n",
    "print(type(empty_dic))\n",
    "\n",
    "#And\n",
    "empty_disct=dict();\n",
    "empty_disct"
   ]
  },
  {
   "cell_type": "code",
   "execution_count": 5,
   "id": "508af3fa",
   "metadata": {},
   "outputs": [
    {
     "name": "stdout",
     "output_type": "stream",
     "text": [
      "{'name': 'Divakar', 'age': '25', 'profession': 'Working'}\n"
     ]
    }
   ],
   "source": [
    "student={\"name\":\"Divakar\", \"age\":\"25\", \"profession\":\"Working\"}\n",
    "print(student)"
   ]
  },
  {
   "cell_type": "code",
   "execution_count": null,
   "id": "b3cdedb0",
   "metadata": {},
   "outputs": [
    {
     "name": "stdout",
     "output_type": "stream",
     "text": [
      "{'1': 'a', '2': 'd', '3': 'c'}\n"
     ]
    }
   ],
   "source": [
    "#Lets see what happen when we will give more than 1 value to a key\n",
    "\n",
    "name={\"1\":\"a\", \"2\":\"b\", \"3\":\"c\", \"2\":\"d\"}\n",
    "print(name)  #Here what will happen the latest decleration value which we are declearing in the key will updated and print"
   ]
  },
  {
   "cell_type": "code",
   "execution_count": 19,
   "id": "0f896600",
   "metadata": {},
   "outputs": [
    {
     "name": "stdout",
     "output_type": "stream",
     "text": [
      "Divakar\n",
      "25\n",
      "{'name': 'Divakar', 'age': '25', 'profession': 'Working'}\n"
     ]
    }
   ],
   "source": [
    "## Accessing Dictionary Elements\n",
    "student={\"name\":\"Divakar\", \"age\":\"25\", \"profession\":\"Working\"}\n",
    "\n",
    "#1st Method\n",
    "print(student[\"name\"])\n",
    "\n",
    "#2nd Method\n",
    "print(student.get(\"age\"))\n",
    "print(student)"
   ]
  },
  {
   "cell_type": "code",
   "execution_count": null,
   "id": "68b046ce",
   "metadata": {},
   "outputs": [
    {
     "name": "stdout",
     "output_type": "stream",
     "text": [
      "{'name': 'Vikram', 'age': '25', 'profession': 'Working'}\n",
      "{'name': 'Vikram', 'age': '25', 'profession': 'Working', 'passion': 'Cricket'}\n"
     ]
    }
   ],
   "source": [
    "##Modifying Dictionary Elements\n",
    "student[\"name\"]=\"Vikram\"   #update value of the key\n",
    "print(student)\n",
    "\n",
    "student[\"passion\"]=\"Cricket\" #added a new key and value\n",
    "print(student)"
   ]
  },
  {
   "cell_type": "code",
   "execution_count": null,
   "id": "98089098",
   "metadata": {},
   "outputs": [
    {
     "name": "stdout",
     "output_type": "stream",
     "text": [
      "{'name': 'Vikram', 'age': '25', 'passion': 'Cricket'}\n"
     ]
    }
   ],
   "source": [
    "##Deletion\n",
    "del student[\"profession\"]   #delete key adn its value pair\n",
    "print(student)\n",
    "\n",
    "##Dictionary Methods\n",
    "keys=student.keys()           #Get all the keys \n",
    "print(keys)\n",
    "values=student.values()       #Get all the values\n",
    "print(values)\n",
    "\n",
    "iteam=student.items()         #Get all the values and pairs\n",
    "print(items)"
   ]
  },
  {
   "cell_type": "code",
   "execution_count": null,
   "id": "97e15b78",
   "metadata": {},
   "outputs": [
    {
     "name": "stdout",
     "output_type": "stream",
     "text": [
      "{'name': 'Vikram', 'age': '25', 'passion': 'Cricket'}\n",
      "{'name': 'Myopic', 'age': '25', 'passion': 'Cricket'}\n",
      "{'name': 'Myopic', 'age': '25', 'passion': 'Cricket'}\n"
     ]
    }
   ],
   "source": [
    "### Without shallow copy(DrawBack)\n",
    "\n",
    "student_copy=student\n",
    "print(student_copy)\n",
    "\n",
    "student[\"name\"]=\"Myopic\"\n",
    "print(student_copy)\n",
    "print(student)\n",
    "\n",
    "##Conclusion:- As we seen above whenever we are changing the value in student(original) its value automatically change in its copy as well student_copy"
   ]
  },
  {
   "cell_type": "code",
   "execution_count": null,
   "id": "762f089f",
   "metadata": {},
   "outputs": [
    {
     "name": "stdout",
     "output_type": "stream",
     "text": [
      "{'name': 'Myopic', 'age': 55, 'passion': 'Cricket'}\n",
      "{'name': 'Myopic', 'age': 55, 'passion': 'Cricket'}\n",
      "{'name': 'Myopic', 'age': 62, 'passion': 'Cricket'}\n",
      "{'name': 'Myopic', 'age': 55, 'passion': 'Cricket'}\n"
     ]
    }
   ],
   "source": [
    "### Now game of SHALLOW COPY Function\n",
    "student_copy2=student.copy()   ##Shallow copy\n",
    "print(student)\n",
    "print(student_copy2)\n",
    "\n",
    "student[\"age\"]=62\n",
    "\n",
    "print(student)   #age 62\n",
    "print(student_copy2) #age 55\n",
    "\n",
    "## As we can see above we tried to change the value of student so its only change in student not in its copy student_copy1\n"
   ]
  },
  {
   "cell_type": "code",
   "execution_count": null,
   "id": "9f3c6a8a",
   "metadata": {},
   "outputs": [],
   "source": [
    "## Iteration over Dictionaries\n",
    "## We can use loops to iterate over dictionaries, keys, values, or items\n",
    "\n",
    "#iteration over the student only for keys\n",
    "for i in student.keys():\n",
    "    print(\"keys:-\",i)\n",
    "print() #for gap in output\n",
    "\n",
    "#iteration over the student only for values\n",
    "for i in student.values():\n",
    "    print(\"values:-\", i)\n",
    "print()\n",
    "    \n",
    "#iteration over the student for key and values together\n",
    "for i,j in student.items():\n",
    "    print(f\"{i}:{j}\")   #f\" \" (f-strings in Python) are special strings that let us easily add variables and expressions inside a string using curly braces {} "
   ]
  },
  {
   "cell_type": "code",
   "execution_count": null,
   "id": "f0de1f04",
   "metadata": {},
   "outputs": [
    {
     "name": "stdout",
     "output_type": "stream",
     "text": [
      "{'name': 'Divakar', 'age': 23, 'state': 'Kolkata'}\n",
      "23\n"
     ]
    }
   ],
   "source": [
    "#Nested Dictionaries\n",
    "students={\n",
    "    \"student1\":{\"name\":\"Divakar\", \"age\":23, \"state\":\"Kolkata\"},\n",
    "    \"student2\":{\"name\":\"Vikram\", \"age\":26, \"state\":\"Bihar\"}\n",
    "}\n",
    "\n",
    "print(students[\"student1\"])\n",
    "print(students[\"student1\"][\"age\"])"
   ]
  },
  {
   "cell_type": "code",
   "execution_count": 56,
   "id": "ce38c721",
   "metadata": {},
   "outputs": [
    {
     "name": "stdout",
     "output_type": "stream",
     "text": [
      "student1,{'name': 'Divakar', 'age': 23, 'state': 'Kolkata'}\n",
      "name,Divakar\n",
      "age,23\n",
      "state,Kolkata\n",
      "\n",
      "student2,{'name': 'Vikram', 'age': 26, 'state': 'Bihar'}\n",
      "name,Vikram\n",
      "age,26\n",
      "state,Bihar\n",
      "\n"
     ]
    }
   ],
   "source": [
    "#Iteration Over nested disctionaries\n",
    "\n",
    "for i, j in students.items():\n",
    "    print(f\"{i},{j}\")\n",
    "    for k, l in j.items():\n",
    "        print(f\"{k},{l}\")\n",
    "    print()"
   ]
  },
  {
   "cell_type": "code",
   "execution_count": 58,
   "id": "0381d1a8",
   "metadata": {},
   "outputs": [
    {
     "name": "stdout",
     "output_type": "stream",
     "text": [
      "{0: 0, 1: 1, 2: 4, 3: 9, 4: 16, 5: 25, 6: 36, 7: 49, 8: 64, 9: 81}\n"
     ]
    }
   ],
   "source": [
    "## Dictionaries Comphrehension\n",
    "\n",
    "squares={x:x**2 for x in range(10)}\n",
    "print(squares)"
   ]
  },
  {
   "cell_type": "code",
   "execution_count": 59,
   "id": "e7ea852f",
   "metadata": {},
   "outputs": [
    {
     "name": "stdout",
     "output_type": "stream",
     "text": [
      "{1: 1, 3: 9}\n"
     ]
    }
   ],
   "source": [
    "## Condition dictionary comphrehension\n",
    "\n",
    "evens={x:x**2 for x in range(5) if x%2!=0}\n",
    "print(evens)"
   ]
  },
  {
   "cell_type": "code",
   "execution_count": 63,
   "id": "2c27e3f8",
   "metadata": {},
   "outputs": [
    {
     "name": "stdout",
     "output_type": "stream",
     "text": [
      "{1: 1, 2: 3, 3: 2, 4: 3, 5: 2, 6: 3, 7: 1}\n"
     ]
    }
   ],
   "source": [
    "## Practical examples\n",
    "# Use a dictionary to count the frequency of elements in list\n",
    "\n",
    "numbers=[1,2,3,4,2,4,5,6,6,7,5,3,2,4,6]\n",
    "\n",
    "frequency={}\n",
    "for i in numbers:\n",
    "    if i in frequency:\n",
    "        frequency[i]+=1\n",
    "    else:\n",
    "        frequency[i]=1\n",
    "print(frequency)\n",
    "        "
   ]
  },
  {
   "cell_type": "code",
   "execution_count": 65,
   "id": "9a95d9d8",
   "metadata": {},
   "outputs": [
    {
     "name": "stdout",
     "output_type": "stream",
     "text": [
      "{'1': 'a', '2': 'b', '3': 'c', '4': 'd'}\n"
     ]
    }
   ],
   "source": [
    "## Merge Dictionaries\n",
    "dict1={\"1\":\"a\", \"2\":\"b\"}\n",
    "dict2={\"3\":\"c\", \"4\":\"d\"}\n",
    "\n",
    "merge={**dict1, **dict2}\n",
    "print(merge)\n"
   ]
  }
 ],
 "metadata": {
  "kernelspec": {
   "display_name": "Python 3",
   "language": "python",
   "name": "python3"
  },
  "language_info": {
   "codemirror_mode": {
    "name": "ipython",
    "version": 3
   },
   "file_extension": ".py",
   "mimetype": "text/x-python",
   "name": "python",
   "nbconvert_exporter": "python",
   "pygments_lexer": "ipython3",
   "version": "3.12.0"
  }
 },
 "nbformat": 4,
 "nbformat_minor": 5
}
