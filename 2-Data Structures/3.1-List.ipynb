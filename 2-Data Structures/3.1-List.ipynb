{
 "cells": [
  {
   "cell_type": "markdown",
   "id": "9963dc55",
   "metadata": {},
   "source": [
    "1) Lists are ordered, mutable(changeable) collections of items.\n",
    "2) They can contains items of different data types.\n"
   ]
  },
  {
   "cell_type": "code",
   "execution_count": 4,
   "id": "396314cf",
   "metadata": {},
   "outputs": [
    {
     "name": "stdout",
     "output_type": "stream",
     "text": [
      "<class 'list'>\n"
     ]
    }
   ],
   "source": [
    "#List\n",
    "lst=[1,\"divakar\", 3.14]\n",
    "print(type(lst))"
   ]
  },
  {
   "cell_type": "code",
   "execution_count": 5,
   "id": "7b829f2b",
   "metadata": {},
   "outputs": [
    {
     "name": "stdout",
     "output_type": "stream",
     "text": [
      "orange\n",
      "['banana', 'orange']\n"
     ]
    }
   ],
   "source": [
    "#Accessing list elements\n",
    "fruits=['apple', 'banana', 'orange', 'annar', 'mango']\n",
    "print(fruits[2])\n",
    "print(fruits[1:3])"
   ]
  },
  {
   "cell_type": "code",
   "execution_count": 12,
   "id": "9388f0e8",
   "metadata": {},
   "outputs": [
    {
     "name": "stdout",
     "output_type": "stream",
     "text": [
      "['apple', 'banana', 'orange', 'annar', 'mango', 'kiwi']\n",
      "['apple', 'banana', 'orange', 'watermelon', 'annar', 'mango', 'kiwi']\n",
      "['apple', 'banana', 'watermelon', 'annar', 'mango', 'kiwi']\n"
     ]
    }
   ],
   "source": [
    "##List Methods\n",
    "fruits=['apple', 'banana', 'orange', 'annar', 'mango']\n",
    "fruits.append(\"kiwi\")   ##this will add an iteam at the end\n",
    "print(fruits)\n",
    "\n",
    "\n",
    "##insert element at any particular index\n",
    "fruits.insert(3,\"watermelon\")\n",
    "print(fruits)\n",
    "\n",
    "\n",
    "##remove a particular element\n",
    "fruits.remove(\"orange\")\n",
    "print(fruits)"
   ]
  },
  {
   "cell_type": "code",
   "execution_count": null,
   "id": "d1ed68f6",
   "metadata": {},
   "outputs": [
    {
     "name": "stdout",
     "output_type": "stream",
     "text": [
      "['apple', 'banana', 'watermelon', 'annar', 'mango', 'kiwi', 'apple', 'banana', 'watermelon', 'annar', 'mango', 'kiwi']\n"
     ]
    }
   ],
   "source": [
    "pop_fruits=fruits.pop()\n",
    "print(pop_fruits)"
   ]
  },
  {
   "cell_type": "code",
   "execution_count": 29,
   "id": "1364045b",
   "metadata": {},
   "outputs": [
    {
     "name": "stdout",
     "output_type": "stream",
     "text": [
      "2\n"
     ]
    }
   ],
   "source": [
    "name=[\"John\", \"Anupam\", \"Aman\", \"Vinita\"]\n",
    "ind=name.index(\"Aman\")\n",
    "print(ind)"
   ]
  },
  {
   "cell_type": "code",
   "execution_count": 30,
   "id": "b322d296",
   "metadata": {},
   "outputs": [
    {
     "name": "stdout",
     "output_type": "stream",
     "text": [
      "[3, 4, 5]\n",
      "[1, 2, 3, 4, 5]\n",
      "[6, 7, 8, 9]\n",
      "[1, 3, 5, 7, 9]\n",
      "[9, 8, 7, 6, 5, 4, 3, 2, 1]\n"
     ]
    }
   ],
   "source": [
    "#Slicing List\n",
    "numbers=[1,2,3,4,5,6,7,8,9]\n",
    "print(numbers[2:5])  \n",
    "print(numbers[:5])\n",
    "print(numbers[5:])\n",
    "print(numbers[::2])\n",
    "print(numbers[::-1])"
   ]
  },
  {
   "cell_type": "code",
   "execution_count": null,
   "id": "79e3b117",
   "metadata": {},
   "outputs": [
    {
     "name": "stdout",
     "output_type": "stream",
     "text": [
      "red\n",
      "green\n",
      "blue\n",
      "0 red\n",
      "1 green\n",
      "2 blue\n"
     ]
    }
   ],
   "source": [
    "#iterating over list\n",
    "\n",
    "colors = ['red', 'green', 'blue']\n",
    "#M1\n",
    "for i in colors:\n",
    "    print(i)\n",
    "\n",
    "#M2\n",
    "for index, color in enumerate(colors):   #emurate is a such type pf inbuilt function which gives us index and values\n",
    "    print(index, color)\n"
   ]
  },
  {
   "cell_type": "markdown",
   "id": "a2a1fff3",
   "metadata": {},
   "source": [
    "**List Comprehension\n",
    "List comprehension is a short and easy way to create a new list by writing a single line of code using a loop.\n",
    "\n",
    "--Use Case\n",
    "When you want to write short, readable code for creating or transforming lists.\n",
    "For filtering or mapping operations."
   ]
  },
  {
   "cell_type": "markdown",
   "id": "cabd3406",
   "metadata": {},
   "source": [
    "SYNTAX\n",
    "\n",
    "Basic syntax            [expression | for item in iterable]\n",
    "\n",
    "with conditional login  [expression | for item in iterable if condition]"
   ]
  },
  {
   "cell_type": "code",
   "execution_count": 46,
   "id": "d952b2d6",
   "metadata": {},
   "outputs": [
    {
     "name": "stdout",
     "output_type": "stream",
     "text": [
      "[0, 1, 4, 9, 16, 25, 36, 49, 64, 81]\n"
     ]
    }
   ],
   "source": [
    "##Basic list comphrension\n",
    "cube=[i**2 for i in range(10)]\n",
    "print(cube)"
   ]
  },
  {
   "cell_type": "code",
   "execution_count": null,
   "id": "5890d5b0",
   "metadata": {},
   "outputs": [
    {
     "name": "stdout",
     "output_type": "stream",
     "text": [
      "[0, 2, 4, 6, 8]\n"
     ]
    }
   ],
   "source": [
    "##With condition\n",
    "lt=[]\n",
    "for i in range(10):\n",
    "    if i%2==0:\n",
    "        lt.append(i)\n",
    "    \n",
    "print(lt)\n",
    "\n",
    "##Now with list comphrension\n",
    "ltcp=[i for i in range(10) if i%2==0]  #its shorter and elegent\n",
    "\n"
   ]
  },
  {
   "cell_type": "code",
   "execution_count": 51,
   "id": "846c7d1a",
   "metadata": {},
   "outputs": [
    {
     "name": "stdout",
     "output_type": "stream",
     "text": [
      "[(1, 'a'), (1, 'b'), (1, 'c'), (1, 'd'), (1, ''), (2, 'a'), (2, 'b'), (2, 'c'), (2, 'd'), (2, ''), (3, 'a'), (3, 'b'), (3, 'c'), (3, 'd'), (3, ''), (4, 'a'), (4, 'b'), (4, 'c'), (4, 'd'), (4, ''), (5, 'a'), (5, 'b'), (5, 'c'), (5, 'd'), (5, '')]\n"
     ]
    }
   ],
   "source": [
    "#Just one example of nested list comprehension\n",
    "list1=[1,2,3,4,5]\n",
    "list2=[\"a\",'b','c', 'd', '']\n",
    "\n",
    "#let we are pairing of both list\n",
    "pair=[(i,j) for i in list1 for j in list2]\n",
    "print(pair)"
   ]
  },
  {
   "cell_type": "code",
   "execution_count": 55,
   "id": "ddfbd385",
   "metadata": {},
   "outputs": [
    {
     "name": "stdout",
     "output_type": "stream",
     "text": [
      "[5, 7, 3, 3, 3]\n"
     ]
    }
   ],
   "source": [
    "words=[\"Hello\", \"Divakar\", \"How\", \"are\", \"you\"]\n",
    "lengths=[(len(i)) for i in words]\n",
    "print(lengths)"
   ]
  },
  {
   "cell_type": "markdown",
   "id": "22071d04",
   "metadata": {},
   "source": [
    "RECAP\n",
    "\n",
    "| Method         | Description                                          |\n",
    "| -------------- | ---------------------------------------------------- |\n",
    "| `append(x)`    | Adds item `x` at the end                             |\n",
    "| `extend(iter)` | Extends list by appending elements from an iterable  |\n",
    "| `insert(i, x)` | Inserts item `x` at position `i`                     |\n",
    "| `remove(x)`    | Removes first occurrence of item `x`                 |\n",
    "| `pop(i)`       | Removes and returns item at index `i` (default last) |\n",
    "| `clear()`      | Removes all items from the list                      |\n",
    "| `index(x)`     | Returns index of first occurrence of item `x`        |\n",
    "| `count(x)`     | Returns number of times `x` appears                  |\n",
    "| `sort()`       | Sorts the list in ascending order                    |\n",
    "| `reverse()`    | Reverses the list in-place                           |\n",
    "| `copy()`       | Returns a shallow copy of the list                   |\n"
   ]
  }
 ],
 "metadata": {
  "kernelspec": {
   "display_name": "Python 3",
   "language": "python",
   "name": "python3"
  },
  "language_info": {
   "codemirror_mode": {
    "name": "ipython",
    "version": 3
   },
   "file_extension": ".py",
   "mimetype": "text/x-python",
   "name": "python",
   "nbconvert_exporter": "python",
   "pygments_lexer": "ipython3",
   "version": "3.12.0"
  }
 },
 "nbformat": 4,
 "nbformat_minor": 5
}
