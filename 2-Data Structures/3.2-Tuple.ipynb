{
 "cells": [
  {
   "cell_type": "markdown",
   "id": "172469b9",
   "metadata": {},
   "source": [
    "** Tuples are ordered collections of items that are immutable. They are similar to list but its immutability makes them diffrent."
   ]
  },
  {
   "cell_type": "markdown",
   "id": "6b4f9589",
   "metadata": {},
   "source": [
    "* All the indexing, slicing is same as a list in tuple.\n"
   ]
  },
  {
   "cell_type": "code",
   "execution_count": 5,
   "id": "255cac9a",
   "metadata": {},
   "outputs": [
    {
     "name": "stdout",
     "output_type": "stream",
     "text": [
      "(1, 2, 3, 4, 'a', 'b', 'c')\n",
      "3\n",
      "6\n",
      "9\n",
      "12\n",
      "15\n"
     ]
    }
   ],
   "source": [
    "#concatination\n",
    "t1=(1,2,3,4)\n",
    "t2=(\"a\", \"b\", \"c\")\n",
    "\n",
    "concat=t1+t2\n",
    "print(concat)\n",
    "\n",
    "#its just a important point here to remermber in pythin wheather it list or tuple\n",
    "#list*3   #it will not multiple all the elemnt inside the list or tuple..it will just print all the inside element thrice!\n",
    "         #to multiply all the elements of list we need to iterate through the elemnt and then it will multiply one by one\n",
    "#example\n",
    "listexa=[1,2,3,4,5]\n",
    "for i in listexa:\n",
    "    newl=(i*3)\n",
    "    print(newl)\n",
    "\n"
   ]
  },
  {
   "cell_type": "code",
   "execution_count": null,
   "id": "e95bbb73",
   "metadata": {},
   "outputs": [
    {
     "name": "stdout",
     "output_type": "stream",
     "text": [
      "2\n",
      "4\n"
     ]
    }
   ],
   "source": [
    "##Tuple Method\n",
    "newtup=(1,2,3,4,5,6,7,8,4)\n",
    "print(newtup.count(4))\n",
    "print(newtup.index(5))"
   ]
  },
  {
   "cell_type": "code",
   "execution_count": 10,
   "id": "e66b3a00",
   "metadata": {},
   "outputs": [
    {
     "name": "stdout",
     "output_type": "stream",
     "text": [
      "(1, 'divakar', 3.14)\n",
      "jha\n",
      "2\n",
      "4.34\n"
     ]
    }
   ],
   "source": [
    "##Packing and unpacking tuple\n",
    "#packing means we will decleare a tuple without and small bracket and it will give final result in pack\n",
    "#eg\n",
    "pack_tuple=1, \"divakar\", 3.14\n",
    "print(pack_tuple)\n",
    "\n",
    "#unpacked tuple(its just oppositr to pack tuple method)\n",
    "\n",
    "unpack_tuple=(\"jha\", 2, 4.34)\n",
    "a,b,c=unpack_tuple\n",
    "print(a)\n",
    "print(b)\n",
    "print(c)"
   ]
  },
  {
   "cell_type": "code",
   "execution_count": null,
   "id": "7af1ba67",
   "metadata": {},
   "outputs": [
    {
     "name": "stdout",
     "output_type": "stream",
     "text": [
      "1\n",
      "[2, 3, 4]\n",
      "5\n"
     ]
    }
   ],
   "source": [
    "##Unpacking with a *\n",
    "nums=(1,2,3,4,5)\n",
    "first,*second,last=nums\n",
    "\n",
    "print(first)\n",
    "print(second)  #here it will take all the middle elements together\n",
    "print(last)"
   ]
  },
  {
   "cell_type": "code",
   "execution_count": 16,
   "id": "afceaf26",
   "metadata": {},
   "outputs": [
    {
     "name": "stdout",
     "output_type": "stream",
     "text": [
      "(True, False)\n",
      "c\n"
     ]
    }
   ],
   "source": [
    "###Nested Tuples\n",
    "nest_tuples=((1,2,3), (\"a\",\"b\",\"c\"), (True, False))\n",
    "\n",
    "#access the elements inside the tuple\n",
    "print(nest_tuples[2])\n",
    "\n",
    "#access the particular element inside the tuple\n",
    "print(nest_tuples[1][2])\n",
    "\n"
   ]
  },
  {
   "cell_type": "code",
   "execution_count": 19,
   "id": "9d8aef71",
   "metadata": {},
   "outputs": [
    {
     "name": "stdout",
     "output_type": "stream",
     "text": [
      "1 2 3 \n",
      "a b c \n",
      "True False \n"
     ]
    }
   ],
   "source": [
    "###Iteration through the nested tuples\n",
    "\n",
    "nest_tuples=((1,2,3), (\"a\",\"b\",\"c\"), (True, False))\n",
    "\n",
    "for i in nest_tuples:\n",
    "    for j in i:\n",
    "        print(j,end=\" \")\n",
    "    print()"
   ]
  },
  {
   "cell_type": "markdown",
   "id": "20f7c038",
   "metadata": {},
   "source": [
    "| Feature                   | List (`[]`)                                  | Tuple (`()`)                     |\n",
    "| ------------------------- | -------------------------------------------- | -------------------------------- |\n",
    "| **Syntax**                | `my_list = [1, 2, 3]`                        | `my_tuple = (1, 2, 3)`           |\n",
    "| **Mutable (changeable)**  | ✅ Yes – you can modify it                    | ❌ No – cannot be modified        |\n",
    "| **Methods Supported**     | Many (e.g., `append()`, `pop()`, `remove()`) | Very few (`count()`, `index()`)  |\n",
    "| **Performance**           | Slower (more flexible, takes more memory)    | Faster (less memory)             |\n",
    "| **Use Case**              | When data needs to be updated                | When data should remain constant |\n",
    "| **Brackets Used**         | Square brackets `[ ]`                        | Round brackets `( )`             |\n",
    "| **Can be Dictionary Key** | ❌ No – lists are unhashable                  | ✅ Yes – tuples are hashable      |\n"
   ]
  },
  {
   "cell_type": "markdown",
   "id": "94c2adaa",
   "metadata": {},
   "source": [
    "| Method     | Description                                      |\n",
    "| ---------- | ------------------------------------------------ |\n",
    "| `count(x)` | Returns number of times `x` appears in the tuple |\n",
    "| `index(x)` | Returns index of first occurrence of `x`         |\n",
    "\n",
    "\n",
    "Note-- Tuples do not support methods like append(), remove(), sort() etc. because they are immutable."
   ]
  }
 ],
 "metadata": {
  "kernelspec": {
   "display_name": "Python 3",
   "language": "python",
   "name": "python3"
  },
  "language_info": {
   "codemirror_mode": {
    "name": "ipython",
    "version": 3
   },
   "file_extension": ".py",
   "mimetype": "text/x-python",
   "name": "python",
   "nbconvert_exporter": "python",
   "pygments_lexer": "ipython3",
   "version": "3.12.0"
  }
 },
 "nbformat": 4,
 "nbformat_minor": 5
}
